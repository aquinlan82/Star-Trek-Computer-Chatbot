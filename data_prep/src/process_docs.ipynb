{
 "cells": [
  {
   "cell_type": "code",
   "execution_count": 1,
   "metadata": {},
   "outputs": [],
   "source": [
    "from data_prep_library import *"
   ]
  },
  {
   "cell_type": "code",
   "execution_count": null,
   "metadata": {},
   "outputs": [],
   "source": [
    "# set up directory structure\n",
    "INPUT_DIR = \"../data/extracts\"\n",
    "OUTPUT_DIR = \"../data\"\n",
    "\n",
    "make_path(OUTPUT_DIR)\n",
    "make_path(OUTPUT_DIR + \"/vectors\")"
   ]
  },
  {
   "cell_type": "code",
   "execution_count": 3,
   "metadata": {},
   "outputs": [],
   "source": [
    "# get pdfs to process\n",
    "txt_filenames = list_files(INPUT_DIR, include_dirs=False, include_files=True, include_extension=\".txt\", recursive=False, full_path=False, as_paths=False )\n"
   ]
  },
  {
   "cell_type": "code",
   "execution_count": 4,
   "metadata": {},
   "outputs": [],
   "source": [
    "# chunk text\n",
    "chunks = []\n",
    "vectors = []\n",
    "\n",
    "CHUNK_SIZE = 5\n",
    "for filename in txt_filenames:\n",
    "    show_name, episode_name = filename.rsplit('_', 1)\n",
    "    with open(os.path.join(INPUT_DIR, filename), 'r', encoding=\"utf-8\") as f:\n",
    "        text = f.read()\n",
    "\n",
    "    data = {'show': show_name, 'episode': episode_name}\n",
    "    sentences = re.split('\\n', text)\n",
    "    sentences = [sentence for sentence in sentences if sentence != '']\n",
    "    for i in range(0, len(sentences), CHUNK_SIZE):\n",
    "        chunk = '\\n'.join(sentences[i:i+CHUNK_SIZE])\n",
    "        chunks.append(chunk)\n",
    "        vectors.append(data)\n"
   ]
  },
  {
   "cell_type": "code",
   "execution_count": 5,
   "metadata": {},
   "outputs": [],
   "source": [
    "# vectorize\n",
    "vectorizer_vars = get_vectorizer_variables()"
   ]
  },
  {
   "cell_type": "code",
   "execution_count": 7,
   "metadata": {},
   "outputs": [],
   "source": [
    "def make_vector_wrapper(vectors, chunks, make_function, vectorizer_vars):\n",
    "    \n",
    "    failures = []\n",
    "    output_vectors = []\n",
    "    with tqdm(total=len(vectors)) as pbar:\n",
    "        with ThreadPoolExecutor(max_workers=50) as executor:\n",
    "            futures = {}\n",
    "            for vector_data, chunk in zip(vectors, chunks):\n",
    "                future = executor.submit(make_function, chunk, vectorizer_vars)\n",
    "                futures[future] = vector_data.copy()\n",
    "            for future in as_completed(futures):\n",
    "                try:\n",
    "                    out = future.result()\n",
    "                    vector_data = futures[future]\n",
    "                    vector_data['vector'] = out\n",
    "                    output_vectors.append(vector_data)\n",
    "                    \n",
    "                except Exception as e:\n",
    "                    print(f\"Error [{vector_data}]: {e}\")\n",
    "                    failures.append(futures[future])\n",
    "                    exit()\n",
    "                pbar.update(1) \n",
    "\n",
    "    return output_vectors, failures"
   ]
  },
  {
   "cell_type": "code",
   "execution_count": 10,
   "metadata": {},
   "outputs": [
    {
     "name": "stderr",
     "output_type": "stream",
     "text": [
      "100%|██████████| 68316/68316 [00:22<00:00, 3069.20it/s]\n"
     ]
    }
   ],
   "source": [
    "# semantic vectorize each chunk\n",
    "semantic_vectors, failures = make_vector_wrapper(vectors, chunks, make_lexical_vector, vectorizer_vars)\n",
    "pickle.dump(semantic_vectors, open(OUTPUT_DIR + f\"/vectors/semantic_vectors.bin\", \"wb\")) "
   ]
  },
  {
   "cell_type": "code",
   "execution_count": null,
   "metadata": {},
   "outputs": [],
   "source": []
  }
 ],
 "metadata": {
  "kernelspec": {
   "display_name": "Python 3",
   "language": "python",
   "name": "python3"
  },
  "language_info": {
   "codemirror_mode": {
    "name": "ipython",
    "version": 3
   },
   "file_extension": ".py",
   "mimetype": "text/x-python",
   "name": "python",
   "nbconvert_exporter": "python",
   "pygments_lexer": "ipython3",
   "version": "3.11.4"
  }
 },
 "nbformat": 4,
 "nbformat_minor": 2
}
