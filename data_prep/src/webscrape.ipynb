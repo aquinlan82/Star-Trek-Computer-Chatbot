{
 "cells": [
  {
   "cell_type": "code",
   "execution_count": 5,
   "metadata": {},
   "outputs": [],
   "source": [
    "from data_prep_library import *"
   ]
  },
  {
   "cell_type": "code",
   "execution_count": 3,
   "metadata": {},
   "outputs": [],
   "source": [
    "from selenium import webdriver\n",
    "from selenium.webdriver.support.ui import WebDriverWait\n",
    "from selenium.webdriver.support import expected_conditions as EC\n",
    "from selenium.webdriver.common.by import By"
   ]
  },
  {
   "cell_type": "code",
   "execution_count": 6,
   "metadata": {},
   "outputs": [],
   "source": [
    "# set up directory structure\n",
    "OUTPUT_DIR = \"../data/extracts\"\n",
    "\n",
    "make_path(OUTPUT_DIR)"
   ]
  },
  {
   "cell_type": "code",
   "execution_count": null,
   "metadata": {},
   "outputs": [],
   "source": [
    "websites = [\n",
    "    (\"TOS\", \"http://www.chakoteya.net/StarTrek/episodes.htm\"),\n",
    "    (\"TNG\", \"http://www.chakoteya.net/NextGen/episodes.htm\"),\n",
    "    (\"DS9\", \"http://www.chakoteya.net/DS9/episodes.htm\"),\n",
    "    (\"VOY\", \"http://www.chakoteya.net/Voyager/episode_listing.htm\"),\n",
    "    (\"ENT\", \"http://www.chakoteya.net/Enterprise/episodes.htm\"),\n",
    "    (\"Movie\", \"http://www.chakoteya.net/movies/index.htm\")\n",
    "]\n",
    "\n",
    "driver = webdriver.Firefox()"
   ]
  },
  {
   "cell_type": "code",
   "execution_count": 20,
   "metadata": {},
   "outputs": [],
   "source": [
    "# get links to each episode, each will be an extract document\n",
    "todo_list = []\n",
    "for site in websites:\n",
    "    driver.get(site[1])\n",
    "\n",
    "    table = driver.find_elements(By.TAG_NAME, \"table\")[0]\n",
    "    links = table.find_elements(By.TAG_NAME, \"a\")\n",
    "    for l in links:\n",
    "        if l.get_attribute(\"href\") is not None:       \n",
    "            episode_name = l.text\n",
    "            episode_url = l.get_attribute(\"href\")\n",
    "            show_name = site[0]\n",
    "            todo_list.append((show_name, episode_name, episode_url))\n",
    "\n"
   ]
  },
  {
   "cell_type": "code",
   "execution_count": null,
   "metadata": {},
   "outputs": [],
   "source": [
    "# extract each episode\n",
    "for episode in todo_list:    #624 after voy\n",
    "    show_name = episode[0]\n",
    "    episode_name = episode[1].replace(\"?\", \"\")\n",
    "    episode_url = episode[2]\n",
    "\n",
    "    # get the page\n",
    "    driver.get(episode_url)\n",
    "\n",
    "    # wait for the page to load\n",
    "    WebDriverWait(driver, 10).until(\n",
    "        EC.presence_of_element_located((By.TAG_NAME, \"body\"))\n",
    "    )\n",
    "\n",
    "    # get the text from the page\n",
    "    text = driver.find_element(By.TAG_NAME, \"body\").text\n",
    "\n",
    "    # write the text to a file\n",
    "    filename = f\"{OUTPUT_DIR}/{show_name}_{episode_name}.txt\"\n",
    "    with open(filename, \"w\", encoding=\"utf-8\") as f:\n",
    "        f.write(text)"
   ]
  },
  {
   "cell_type": "code",
   "execution_count": null,
   "metadata": {},
   "outputs": [],
   "source": []
  }
 ],
 "metadata": {
  "kernelspec": {
   "display_name": "Python 3",
   "language": "python",
   "name": "python3"
  },
  "language_info": {
   "codemirror_mode": {
    "name": "ipython",
    "version": 3
   },
   "file_extension": ".py",
   "mimetype": "text/x-python",
   "name": "python",
   "nbconvert_exporter": "python",
   "pygments_lexer": "ipython3",
   "version": "3.11.4"
  }
 },
 "nbformat": 4,
 "nbformat_minor": 2
}
